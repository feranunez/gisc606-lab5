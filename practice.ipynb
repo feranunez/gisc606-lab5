{
 "cells": [
  {
   "cell_type": "code",
   "execution_count": 1,
   "metadata": {},
   "outputs": [],
   "source": [
    "import os\n",
    "from glob import glob \n",
    "import matplotlib.pyplot as plt \n",
    "import geopandas as gpd \n",
    "import rioxarray as rxr \n",
    "import xarray as xr \n",
    "from shapely.geometry import mapping \n",
    "import numpy as np \n",
    "import numpy.ma as ma \n",
    "import earthpy as et \n",
    "import earthpy.spatial as es \n",
    "import earthpy.plot as ep\n",
    "\n",
    "os.chdir(os.path.join(et.io.HOME, \"earth-analytics\"))"
   ]
  },
  {
   "cell_type": "code",
   "execution_count": 2,
   "metadata": {},
   "outputs": [
    {
     "name": "stdout",
     "output_type": "stream",
     "text": [
      "Do challenge 1 here\n"
     ]
    }
   ],
   "source": [
    "print(\"Do challenge 1 here\")"
   ]
  },
  {
   "cell_type": "code",
   "execution_count": 3,
   "metadata": {},
   "outputs": [
    {
     "name": "stdout",
     "output_type": "stream",
     "text": [
      "Do challenge 2 here\n"
     ]
    }
   ],
   "source": [
    "print(\"Do challenge 2 here\")"
   ]
  },
  {
   "cell_type": "code",
   "execution_count": 4,
   "metadata": {},
   "outputs": [
    {
     "name": "stdout",
     "output_type": "stream",
     "text": [
      "will finish later\n"
     ]
    }
   ],
   "source": [
    "print(\"will finish later\")"
   ]
  },
  {
   "cell_type": "code",
   "execution_count": null,
   "metadata": {},
   "outputs": [],
   "source": []
  }
 ],
 "metadata": {
  "kernelspec": {
   "display_name": "Python 3",
   "language": "python",
   "name": "python3"
  },
  "language_info": {
   "codemirror_mode": {
    "name": "ipython",
    "version": 3
   },
   "file_extension": ".py",
   "mimetype": "text/x-python",
   "name": "python",
   "nbconvert_exporter": "python",
   "pygments_lexer": "ipython3",
   "version": "3.10.13"
  }
 },
 "nbformat": 4,
 "nbformat_minor": 2
}
